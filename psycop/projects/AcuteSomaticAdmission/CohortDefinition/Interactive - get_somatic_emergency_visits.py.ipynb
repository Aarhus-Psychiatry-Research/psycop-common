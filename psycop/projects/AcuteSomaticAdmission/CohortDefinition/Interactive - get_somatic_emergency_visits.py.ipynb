{
 "cells": [
  {
   "cell_type": "markdown",
   "metadata": {},
   "source": [
    "Connected to psycop-next (Python 3.11.8)"
   ]
  },
  {
   "cell_type": "code",
   "execution_count": 1,
   "id": "1eea23a5-347e-400e-aaa9-39fa911a36c6",
   "metadata": {},
   "outputs": [],
   "source": [
    "\"\"\"\n",
    "Script for obtaining and writing all somatic emergency contacts\n",
    "for all admissions from 2012-2022. Handles LPR2 to LPR3 transition, duplicates\n",
    "and short term readmissions. Bemærk that Traumecenter er ambulant så kontakter udelukkende hertil tæller ikke\n",
    "hvilket er helt ok da patienter der udskrives direkte fra Traumecenteret ikke har været syge (for så var de jo blevet indlagt).\n",
    "Jeg skal dog være opmærksom på patienter som indlægges pga selvmordsforsøg. Dem vil der være nogen af.\n",
    "\"\"\"\n",
    "import pandas as pd\n",
    "\n",
    "from psycop.common.global_utils.sql.loader import sql_load\n",
    "from psycop.common.global_utils.sql.writer import write_df_to_sql\n",
    "from psycop.projects.forced_admission_inpatient.cohort.extract_admissions_and_visits.utils.utils import (\n",
    "    concat_readmissions_for_all_patients,\n",
    "    lpr2_lpr3_overlap,\n",
    ")\n",
    "\n",
    "\n",
    "def get_contacts_to_somatic_emergency(write: bool = False) -> pd.DataFrame:\n",
    "    # Load contact data\n",
    "    view = \"[FOR_kohorte_indhold_pt_journal_psyk_somatik_inkl_2021_feb2022]\"\n",
    "    cols_to_keep = \"datotid_start, datotid_slut, dw_ek_borger, pt_type\"\n",
    "\n",
    "    sql = \"SELECT \" + cols_to_keep + \" FROM [fct].\" + view\n",
    "\n",
    "    #sql = \"SELECT * FROM [fct].\" + view\n",
    "    sql += \"WHERE datotid_start > '2012-01-01' AND pt_type = 'Indlagt'\"\n",
    "    sql += \" AND datotid_start IS NOT NULL AND datotid_slut IS NOT NULL;\"\n",
    "\n",
    "    df = pd.DataFrame(sql_load(sql, chunksize=None))  # type: ignore\n",
    "\n",
    "    df[\"datotid_start\"] = df[\"datotid_start\"].apply(\n",
    "        pd.to_datetime\n",
    "    )\n",
    "\n",
    "    df[\"datotid_slut\"] = df[\"datotid_slut\"].apply(\n",
    "        pd.to_datetime\n",
    "    )\n",
    "\n",
    "\n",
    "    if write:\n",
    "        ROWS_PER_CHUNK = 5_000\n",
    "\n",
    "        write_df_to_sql(\n",
    "            df=df[[\"dw_ek_borger\", \"datotid_start\"]],\n",
    "            table_name=\"all_acute_somatic_contact_processed_2012_2021_ANDDAN_SOMATIC_ADMISSION\",\n",
    "            if_exists=\"replace\",\n",
    "            rows_per_chunk=ROWS_PER_CHUNK,\n",
    "        )\n",
    "\n",
    "    #Så sætter jeg det korrekte navn - de andre kalder nedenstående funktion der gør det samme. Måske for at spare tid når datasættet loades\n",
    "    df = df.rename(columns={\"datotid_start\": \"timestamp\"})\n",
    "\n",
    "    return df[[\"dw_ek_borger\", \"timestamp\"]]  # type: ignore\n",
    "\n",
    "def admissions_onset_timestamps() -> pd.DataFrame:\n",
    "    # Load somatic_admissions data\n",
    "    view = \"[all_acute_somatic_contact_processed_2012_2021_ANDDAN_SOMATIC_ADMISSION]\"\n",
    "    cols_to_keep = \"dw_ek_borger, datotid_start\"\n",
    "\n",
    "    sql = \"SELECT \" + cols_to_keep + \" FROM [fct].\" + view\n",
    "\n",
    "    admissions_onset_timestamps = pd.DataFrame(sql_load(sql, chunksize=None))  # type: ignore\n",
    "\n",
    "    admissions_onset_timestamps = admissions_onset_timestamps.rename(\n",
    "        columns={\"datotid_start\": \"timestamp\"}\n",
    "    )\n",
    "\n",
    "    return admissions_onset_timestamps\n",
    "\n",
    "if __name__ == \"__main__\":\n",
    "    get_contacts_to_somatic_emergency()"
   ]
  },
  {
   "cell_type": "code",
   "execution_count": 4,
   "metadata": {},
   "outputs": [
    {
     "ename": "NameError",
     "evalue": "name 'df' is not defined",
     "output_type": "error",
     "traceback": [
      "\u001b[1;31m---------------------------------------------------------------------------\u001b[0m",
      "\u001b[1;31mNameError\u001b[0m                                 Traceback (most recent call last)",
      "\u001b[1;32m~\\AppData\\Local\\Temp\\ipykernel_22648\\1396537375.py\u001b[0m in \u001b[0;36m<cell line: 0>\u001b[1;34m()\u001b[0m\n\u001b[1;32m----> 1\u001b[1;33m \u001b[0mdf\u001b[0m\u001b[1;33m\u001b[0m\u001b[1;33m\u001b[0m\u001b[0m\n\u001b[0m",
      "\u001b[1;31mNameError\u001b[0m: name 'df' is not defined"
     ]
    }
   ],
   "source": []
  }
 ],
 "metadata": {
  "kernelspec": {
   "display_name": "psycop-next",
   "language": "python",
   "name": "python3"
  },
  "language_info": {
   "codemirror_mode": {
    "name": "ipython",
    "version": 3
   },
   "file_extension": ".py",
   "mimetype": "text/x-python",
   "name": "python",
   "nbconvert_exporter": "python",
   "pygments_lexer": "ipython3",
   "version": "3.11.8"
  }
 },
 "nbformat": 4,
 "nbformat_minor": 2
}
